{
 "cells": [
  {
   "cell_type": "markdown",
   "metadata": {},
   "source": [
    "## Tic Tac Toe\n",
    "Implement a class representing a \"tic-tac-toe\" game for M players on an NxN board.  Choose how you will represent moves by each of the players in a given space on the board, including the case that no one has played in a given space.  Write a function winner that determines the winner for a given board.  Do not implement the play protocol, we're interested only in determining the winner.\n",
    "\n",
    "\n",
    "### Assumptions: \n",
    "\n",
    "Players Markers:\n",
    "\n",
    "     1: Empty places\n",
    "    'X: Player 1\n",
    "    'o: Player 2\n",
    " "
   ]
  },
  {
   "cell_type": "code",
   "execution_count": 393,
   "metadata": {
    "collapsed": true
   },
   "outputs": [],
   "source": [
    "import numpy as np"
   ]
  },
  {
   "cell_type": "markdown",
   "metadata": {},
   "source": [
    "#### Creating the Board for the game\n",
    "\n",
    "    creating a n*n matrix in python and assigning each elemnt to a default value of '1'"
   ]
  },
  {
   "cell_type": "code",
   "execution_count": 394,
   "metadata": {
    "collapsed": false
   },
   "outputs": [],
   "source": [
    "def createBoard(rows,columns):\n",
    "    size = rows*columns\n",
    "    board = np.chararray((rows, columns))\n",
    "    for r in range(rows):\n",
    "        for c in range(columns):\n",
    "                board[r][c] = 1\n",
    "    return board"
   ]
  },
  {
   "cell_type": "markdown",
   "metadata": {},
   "source": [
    "#### Retreiving all possible winning states\n",
    "     State1: Checking across right diagonal\n",
    "     State2: Checking across left diagonal\n",
    "     State3: Checking for all columns of a given row\n",
    "     State4: Checking for all rows of a given column"
   ]
  },
  {
   "cell_type": "code",
   "execution_count": 395,
   "metadata": {
    "collapsed": false
   },
   "outputs": [],
   "source": [
    "\n",
    "def checkGameState(board):\n",
    "    state1 = set()\n",
    "    state2 = set()\n",
    "    state3 = set()\n",
    "    state4 = set()\n",
    "\n",
    "    for r in range(rows):\n",
    "        for c in range(columns):\n",
    "            \n",
    "            # 1. Right Diagonal\n",
    "            if r==c: \n",
    "                state1.add(board[r][c])\n",
    "\n",
    "            # 2. Left Diagonal\n",
    "            if c == columns-r-1:\n",
    "                state2.add(board[r][c])\n",
    "\n",
    "        # 3. All columns in a row\n",
    "        if r == 0:\n",
    "            state3 = set(board[r][:columns])\n",
    "        if len(state3) > 1 or '1' in state3:\n",
    "            state3 = set(board[r][:columns])\n",
    "            \n",
    "    # 4. All rows in a columns\n",
    "    for c in range(columns):\n",
    "        for r in range(rows):\n",
    "            if c == 0:\n",
    "                state4.add(board[r][c])\n",
    "            if c!=0 and (len(state4) > 1 or '1' in state4):\n",
    "                state4 = set()\n",
    "                state4.add(board[r][c])\n",
    "    \n",
    "    states = [state1,state2,state3,state4]\n",
    "    return states"
   ]
  },
  {
   "cell_type": "markdown",
   "metadata": {},
   "source": [
    "#### Function to check the winner or result of the game\n",
    "\n",
    "     1: Default\n",
    "    'X: Player 1\n",
    "    'o: Player 2"
   ]
  },
  {
   "cell_type": "code",
   "execution_count": 396,
   "metadata": {
    "collapsed": false
   },
   "outputs": [],
   "source": [
    "def winner(states,default,player1,player2):\n",
    "    state1 = states[0]\n",
    "    state2 = states[1]\n",
    "    state3 = states[2]\n",
    "    state4 = states[3]\n",
    "\n",
    "    if len(state1) == 1 and default not in state1:\n",
    "        if player1 in state1:\n",
    "            print 'state1 : Right Diagonal satisfied'\n",
    "            return 'player 1 wins'\n",
    "        elif player2 in state1:\n",
    "            print 'state1 : Right Diagonal satisfied'\n",
    "            return 'player 2 wins'\n",
    "        \n",
    "    if len(state2) == 1 and default not in state2:\n",
    "        if player1 in state2:\n",
    "            print 'state2 : Left Diagonal satisfied'\n",
    "            return 'player 1 wins'\n",
    "        elif player2 in state2:\n",
    "            print 'state2 : Left Diagonal satisfied'\n",
    "            return 'player 2 wins'\n",
    "        \n",
    "    if len(state3) == 1 and default not in state3:\n",
    "        if player1 in state3:\n",
    "            print 'state3 : All Columns in a single row'\n",
    "            return 'player 1 wins'\n",
    "        elif player2 in state3:\n",
    "            print 'state3: All Columns in a single row'\n",
    "            return 'player 2 wins'\n",
    "        \n",
    "    if len(state4) == 1 and default not in state4:\n",
    "        if player1 in state4:\n",
    "            print 'state4 : All rows in a single column'\n",
    "            return 'player 1 wins'\n",
    "        elif player2 in state4:\n",
    "            print 'state4 : All rows in a single column'\n",
    "            return 'player 2 wins'\n",
    "    else:\n",
    "        return 'No Winner'"
   ]
  },
  {
   "cell_type": "markdown",
   "metadata": {},
   "source": [
    "#### Creating Test Cases \n"
   ]
  },
  {
   "cell_type": "code",
   "execution_count": 397,
   "metadata": {
    "collapsed": true
   },
   "outputs": [],
   "source": [
    "def testcase1(board,rows,columns):\n",
    "    for r in range(rows):\n",
    "        for c in range(columns):\n",
    "            if r==c: \n",
    "                board[r][c] = 'X'\n",
    "    return board\n",
    "\n",
    "def testcase2(board,rows,columns):\n",
    "    for r in range(rows):\n",
    "        for c in range(columns):\n",
    "            if c == columns-r-1: \n",
    "                board[r][c] = 'o'\n",
    "    return board\n",
    "\n",
    "def testcase3(board,rows,columns):\n",
    "    for r in range(rows):\n",
    "        for c in range(columns):\n",
    "            if r == 1: \n",
    "                board[r][c] = 'o'\n",
    "    return board\n",
    "\n",
    "def testcase4(board,rows,columns):\n",
    "    for c in range(columns):\n",
    "        for r in range(rows):\n",
    "            if c == 1: \n",
    "                board[r][c] = 'X'\n",
    "    return board\n",
    "\n",
    "def testcase5(board,rows,columns):\n",
    "    for c in range(columns):\n",
    "        for r in range(rows):\n",
    "            board[r][c] = 1\n",
    "    return board"
   ]
  },
  {
   "cell_type": "markdown",
   "metadata": {},
   "source": [
    "#### Please run the below cells to execute the above 5 test cases"
   ]
  },
  {
   "cell_type": "code",
   "execution_count": 398,
   "metadata": {
    "collapsed": true
   },
   "outputs": [],
   "source": [
    "# Assumptions\n",
    "n = 3\n",
    "default = '1'\n",
    "player1 = 'X'\n",
    "player2 = 'o'"
   ]
  },
  {
   "cell_type": "code",
   "execution_count": 399,
   "metadata": {
    "collapsed": false
   },
   "outputs": [
    {
     "name": "stdout",
     "output_type": "stream",
     "text": [
      "[['X' '1' '1']\n",
      " ['1' 'X' '1']\n",
      " ['1' '1' 'X']]\n",
      "state1 : Right Diagonal satisfied\n",
      "player 1 wins\n"
     ]
    }
   ],
   "source": [
    "#test Case 1\n",
    "board = createBoard(n,n)\n",
    "board = testcase1(board,n,n)\n",
    "states = checkGameState(board)\n",
    "print board\n",
    "print winner(states,default,player1,player2)\n"
   ]
  },
  {
   "cell_type": "code",
   "execution_count": 400,
   "metadata": {
    "collapsed": false
   },
   "outputs": [
    {
     "name": "stdout",
     "output_type": "stream",
     "text": [
      "[['1' '1' 'o']\n",
      " ['1' 'o' '1']\n",
      " ['o' '1' '1']]\n",
      "state2 : Left Diagonal satisfied\n",
      "player 2 wins\n"
     ]
    }
   ],
   "source": [
    "#test Case 2\n",
    "board = createBoard(n,n)\n",
    "board = testcase2(board,n,n)\n",
    "states = checkGameState(board)\n",
    "print board\n",
    "print winner(states,default,player1,player2)"
   ]
  },
  {
   "cell_type": "code",
   "execution_count": 401,
   "metadata": {
    "collapsed": false
   },
   "outputs": [
    {
     "name": "stdout",
     "output_type": "stream",
     "text": [
      "[['1' '1' '1']\n",
      " ['o' 'o' 'o']\n",
      " ['1' '1' '1']]\n",
      "state3: All Columns in a single row\n",
      "player 2 wins\n"
     ]
    }
   ],
   "source": [
    "#test Case 3\n",
    "board = createBoard(n,n)\n",
    "board = testcase3(board,n,n)\n",
    "states = checkGameState(board)\n",
    "print board\n",
    "print winner(states,default,player1,player2)"
   ]
  },
  {
   "cell_type": "code",
   "execution_count": 402,
   "metadata": {
    "collapsed": false
   },
   "outputs": [
    {
     "name": "stdout",
     "output_type": "stream",
     "text": [
      "[['1' 'X' '1']\n",
      " ['1' 'X' '1']\n",
      " ['1' 'X' '1']]\n",
      "state4 : All rows in a single column\n",
      "player 1 wins\n"
     ]
    }
   ],
   "source": [
    "#test Case 4\n",
    "board = createBoard(n,n)\n",
    "board = testcase4(board,n,n)\n",
    "states = checkGameState(board)\n",
    "print board\n",
    "print winner(states,default,player1,player2)"
   ]
  },
  {
   "cell_type": "code",
   "execution_count": 403,
   "metadata": {
    "collapsed": false
   },
   "outputs": [
    {
     "name": "stdout",
     "output_type": "stream",
     "text": [
      "[['1' '1' '1']\n",
      " ['1' '1' '1']\n",
      " ['1' '1' '1']]\n",
      "No Winner\n"
     ]
    }
   ],
   "source": [
    "#test Case 5\n",
    "board = createBoard(n,n)\n",
    "board = testcase5(board,n,n)\n",
    "states = checkGameState(board)\n",
    "print board\n",
    "print winner(states,default,player1,player2)"
   ]
  },
  {
   "cell_type": "code",
   "execution_count": null,
   "metadata": {
    "collapsed": true
   },
   "outputs": [],
   "source": []
  }
 ],
 "metadata": {
  "kernelspec": {
   "display_name": "Python 2",
   "language": "python",
   "name": "python2"
  },
  "language_info": {
   "codemirror_mode": {
    "name": "ipython",
    "version": 2
   },
   "file_extension": ".py",
   "mimetype": "text/x-python",
   "name": "python",
   "nbconvert_exporter": "python",
   "pygments_lexer": "ipython2",
   "version": "2.7.11"
  }
 },
 "nbformat": 4,
 "nbformat_minor": 0
}
